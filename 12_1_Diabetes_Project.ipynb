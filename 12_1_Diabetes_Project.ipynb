{
  "nbformat": 4,
  "nbformat_minor": 0,
  "metadata": {
    "colab": {
      "provenance": []
    },
    "kernelspec": {
      "name": "python3",
      "display_name": "Python 3"
    }
  },
  "cells": [
    {
      "cell_type": "code",
      "metadata": {
        "id": "0X-FWnNfN5L8"
      },
      "source": [
        "import pandas as pd"
      ],
      "execution_count": null,
      "outputs": []
    },
    {
      "cell_type": "code",
      "metadata": {
        "colab": {
          "base_uri": "https://localhost:8080/"
        },
        "id": "VS_f4lcDPFrs",
        "outputId": "7bc00925-9d84-4f14-eb96-084125a16995"
      },
      "source": [
        "from google.colab import drive\n",
        "drive.mount('/content/drive')"
      ],
      "execution_count": null,
      "outputs": [
        {
          "output_type": "stream",
          "text": [
            "Mounted at /content/drive\n"
          ],
          "name": "stdout"
        }
      ]
    },
    {
      "cell_type": "code",
      "metadata": {
        "colab": {
          "base_uri": "https://localhost:8080/"
        },
        "id": "eTx0Bk-PO0ro",
        "outputId": "9530147c-2afc-447c-c869-ade71b7858fd"
      },
      "source": [
        "%cd /content/drive/My Drive/Colab Notebooks"
      ],
      "execution_count": null,
      "outputs": [
        {
          "output_type": "stream",
          "text": [
            "/content/drive/My Drive/Colab Notebooks\n"
          ],
          "name": "stdout"
        }
      ]
    },
    {
      "cell_type": "code",
      "metadata": {
        "id": "9bkencI0PU-a"
      },
      "source": [
        "df = pd.read_csv('diabetes.csv')"
      ],
      "execution_count": null,
      "outputs": []
    },
    {
      "cell_type": "code",
      "metadata": {
        "colab": {
          "base_uri": "https://localhost:8080/"
        },
        "id": "cnDeeg2JP5Fs",
        "outputId": "bedc5f39-58c1-4af3-b77a-2165a2dca8cb"
      },
      "source": [
        "print(df.head())"
      ],
      "execution_count": null,
      "outputs": [
        {
          "output_type": "stream",
          "text": [
            "   Pregnancies  Glucose  BloodPressure  ...  DiabetesPedigreeFunction  Age  Outcome\n",
            "0            6      148             72  ...                     0.627   50        1\n",
            "1            1       85             66  ...                     0.351   31        0\n",
            "2            8      183             64  ...                     0.672   32        1\n",
            "3            1       89             66  ...                     0.167   21        0\n",
            "4            0      137             40  ...                     2.288   33        1\n",
            "\n",
            "[5 rows x 9 columns]\n"
          ],
          "name": "stdout"
        }
      ]
    },
    {
      "cell_type": "markdown",
      "metadata": {
        "id": "5Nne4xcpQIPk"
      },
      "source": [
        "\n",
        "\n",
        "*   Pregnancies: Number of previous pregnancies\n",
        "*   Glucose: Plagma glucose concentration\n",
        "\n",
        "*   BloodPressure: Diastolic blood pressure\n",
        "*   SkinThickess: Skin fold thickness measured from the triceps\n",
        "\n",
        "\n",
        "*   Insulin: Blood serum insulin concentration\n",
        "*   BMI: Body Mass Index\n",
        "\n",
        "*   DiabetesPedigreeFunction: A summerized score that indicates the genetic predisposition of the patient for diabetes, as extrapolated from the patient's family record for diabetes\n",
        "*   Age: Age in years\n",
        "\n",
        "\n",
        "*   Outcome: The target variable we are trying to predict , 1 for patients that developed diabetes within 5 years of the initial measurement and 0 otherwise\n",
        "\n",
        "\n",
        "\n",
        "\n",
        "\n",
        "\n",
        "\n",
        "\n",
        "\n"
      ]
    },
    {
      "cell_type": "code",
      "metadata": {
        "id": "rTf_Fv2JRNQ5",
        "colab": {
          "base_uri": "https://localhost:8080/",
          "height": 449
        },
        "outputId": "917a8d3d-5314-4577-f38f-954cff740510"
      },
      "source": [
        "from matplotlib import pyplot as plt\n",
        "df.hist()\n"
      ],
      "execution_count": null,
      "outputs": [
        {
          "output_type": "execute_result",
          "data": {
            "text/plain": [
              "array([[<matplotlib.axes._subplots.AxesSubplot object at 0x7f7d19e8f3c8>,\n",
              "        <matplotlib.axes._subplots.AxesSubplot object at 0x7f7d19e696a0>,\n",
              "        <matplotlib.axes._subplots.AxesSubplot object at 0x7f7d19e1a908>],\n",
              "       [<matplotlib.axes._subplots.AxesSubplot object at 0x7f7d19dc9b70>,\n",
              "        <matplotlib.axes._subplots.AxesSubplot object at 0x7f7d19dc9390>,\n",
              "        <matplotlib.axes._subplots.AxesSubplot object at 0x7f7d19dad710>],\n",
              "       [<matplotlib.axes._subplots.AxesSubplot object at 0x7f7d19d62978>,\n",
              "        <matplotlib.axes._subplots.AxesSubplot object at 0x7f7d19d14ba8>,\n",
              "        <matplotlib.axes._subplots.AxesSubplot object at 0x7f7d19d14c18>]],\n",
              "      dtype=object)"
            ]
          },
          "metadata": {
            "tags": []
          },
          "execution_count": 7
        },
        {
          "output_type": "display_data",
          "data": {
            "image/png": "[encoded data removed]",
            "text/plain": [
              "<Figure size 432x288 with 9 Axes>"
            ]
          },
          "metadata": {
            "tags": [],
            "needs_background": "light"
          }
        }
      ]
    },
    {
      "cell_type": "code",
      "metadata": {
        "id": "tacUf_MeWZxk"
      },
      "source": [
        "plt.show()"
      ],
      "execution_count": null,
      "outputs": []
    },
    {
      "cell_type": "code",
      "metadata": {
        "colab": {
          "base_uri": "https://localhost:8080/",
          "height": 1000
        },
        "id": "oeVR-lHfXpI2",
        "outputId": "0d9ab5f0-6327-4e68-a61c-cced19cd91a8"
      },
      "source": [
        "import seaborn as sns\n",
        "# create a subplot of 3x3\n",
        "plt.subplots(3,3,figsize=(15,15))\n",
        "#plot a density plot for each variable\n",
        "# Plot a density plot for each variable\n",
        "for idx, col in enumerate(df.columns):\n",
        "    ax = plt.subplot(3,3,idx+1)\n",
        "    ax.yaxis.set_ticklabels([])\n",
        "    sns.distplot(df.loc[df.Outcome == 0][col], hist=False, axlabel= False, kde_kws={'linestyle':'-', 'color':'black', 'label':\"No Diabetes\"})\n",
        "    sns.distplot(df.loc[df.Outcome == 1][col], hist=False, axlabel= False, kde_kws={'linestyle':'--', 'color':'black', 'label':\"Diabetes\"})\n",
        "    ax.set_title(col)\n",
        "#Hide the 9th subplot (bottom right since there are only 8 plots)\n",
        "plt.subplot(3,3,9).set_visible(False)\n",
        "\n",
        "plt.show()\n"
      ],
      "execution_count": null,
      "outputs": [
        {
          "output_type": "stream",
          "text": [
            "/usr/local/lib/python3.6/dist-packages/seaborn/distributions.py:2557: FutureWarning: `distplot` is a deprecated function and will be removed in a future version. Please adapt your code to use either `displot` (a figure-level function with similar flexibility) or `kdeplot` (an axes-level function for kernel density plots).\n",
            "  warnings.warn(msg, FutureWarning)\n",
            "/usr/local/lib/python3.6/dist-packages/seaborn/distributions.py:2557: FutureWarning: `distplot` is a deprecated function and will be removed in a future version. Please adapt your code to use either `displot` (a figure-level function with similar flexibility) or `kdeplot` (an axes-level function for kernel density plots).\n",
            "  warnings.warn(msg, FutureWarning)\n",
            "/usr/local/lib/python3.6/dist-packages/seaborn/distributions.py:2557: FutureWarning: `distplot` is a deprecated function and will be removed in a future version. Please adapt your code to use either `displot` (a figure-level function with similar flexibility) or `kdeplot` (an axes-level function for kernel density plots).\n",
            "  warnings.warn(msg, FutureWarning)\n",
            "/usr/local/lib/python3.6/dist-packages/seaborn/distributions.py:2557: FutureWarning: `distplot` is a deprecated function and will be removed in a future version. Please adapt your code to use either `displot` (a figure-level function with similar flexibility) or `kdeplot` (an axes-level function for kernel density plots).\n",
            "  warnings.warn(msg, FutureWarning)\n",
            "/usr/local/lib/python3.6/dist-packages/seaborn/distributions.py:2557: FutureWarning: `distplot` is a deprecated function and will be removed in a future version. Please adapt your code to use either `displot` (a figure-level function with similar flexibility) or `kdeplot` (an axes-level function for kernel density plots).\n",
            "  warnings.warn(msg, FutureWarning)\n",
            "/usr/local/lib/python3.6/dist-packages/seaborn/distributions.py:2557: FutureWarning: `distplot` is a deprecated function and will be removed in a future version. Please adapt your code to use either `displot` (a figure-level function with similar flexibility) or `kdeplot` (an axes-level function for kernel density plots).\n",
            "  warnings.warn(msg, FutureWarning)\n",
            "/usr/local/lib/python3.6/dist-packages/seaborn/distributions.py:2557: FutureWarning: `distplot` is a deprecated function and will be removed in a future version. Please adapt your code to use either `displot` (a figure-level function with similar flexibility) or `kdeplot` (an axes-level function for kernel density plots).\n",
            "  warnings.warn(msg, FutureWarning)\n",
            "/usr/local/lib/python3.6/dist-packages/seaborn/distributions.py:2557: FutureWarning: `distplot` is a deprecated function and will be removed in a future version. Please adapt your code to use either `displot` (a figure-level function with similar flexibility) or `kdeplot` (an axes-level function for kernel density plots).\n",
            "  warnings.warn(msg, FutureWarning)\n",
            "/usr/local/lib/python3.6/dist-packages/seaborn/distributions.py:2557: FutureWarning: `distplot` is a deprecated function and will be removed in a future version. Please adapt your code to use either `displot` (a figure-level function with similar flexibility) or `kdeplot` (an axes-level function for kernel density plots).\n",
            "  warnings.warn(msg, FutureWarning)\n",
            "/usr/local/lib/python3.6/dist-packages/seaborn/distributions.py:2557: FutureWarning: `distplot` is a deprecated function and will be removed in a future version. Please adapt your code to use either `displot` (a figure-level function with similar flexibility) or `kdeplot` (an axes-level function for kernel density plots).\n",
            "  warnings.warn(msg, FutureWarning)\n",
            "/usr/local/lib/python3.6/dist-packages/seaborn/distributions.py:2557: FutureWarning: `distplot` is a deprecated function and will be removed in a future version. Please adapt your code to use either `displot` (a figure-level function with similar flexibility) or `kdeplot` (an axes-level function for kernel density plots).\n",
            "  warnings.warn(msg, FutureWarning)\n",
            "/usr/local/lib/python3.6/dist-packages/seaborn/distributions.py:2557: FutureWarning: `distplot` is a deprecated function and will be removed in a future version. Please adapt your code to use either `displot` (a figure-level function with similar flexibility) or `kdeplot` (an axes-level function for kernel density plots).\n",
            "  warnings.warn(msg, FutureWarning)\n",
            "/usr/local/lib/python3.6/dist-packages/seaborn/distributions.py:2557: FutureWarning: `distplot` is a deprecated function and will be removed in a future version. Please adapt your code to use either `displot` (a figure-level function with similar flexibility) or `kdeplot` (an axes-level function for kernel density plots).\n",
            "  warnings.warn(msg, FutureWarning)\n",
            "/usr/local/lib/python3.6/dist-packages/seaborn/distributions.py:2557: FutureWarning: `distplot` is a deprecated function and will be removed in a future version. Please adapt your code to use either `displot` (a figure-level function with similar flexibility) or `kdeplot` (an axes-level function for kernel density plots).\n",
            "  warnings.warn(msg, FutureWarning)\n",
            "/usr/local/lib/python3.6/dist-packages/seaborn/distributions.py:2557: FutureWarning: `distplot` is a deprecated function and will be removed in a future version. Please adapt your code to use either `displot` (a figure-level function with similar flexibility) or `kdeplot` (an axes-level function for kernel density plots).\n",
            "  warnings.warn(msg, FutureWarning)\n",
            "/usr/local/lib/python3.6/dist-packages/seaborn/distributions.py:2557: FutureWarning: `distplot` is a deprecated function and will be removed in a future version. Please adapt your code to use either `displot` (a figure-level function with similar flexibility) or `kdeplot` (an axes-level function for kernel density plots).\n",
            "  warnings.warn(msg, FutureWarning)\n",
            "/usr/local/lib/python3.6/dist-packages/seaborn/distributions.py:2557: FutureWarning: `distplot` is a deprecated function and will be removed in a future version. Please adapt your code to use either `displot` (a figure-level function with similar flexibility) or `kdeplot` (an axes-level function for kernel density plots).\n",
            "  warnings.warn(msg, FutureWarning)\n",
            "/usr/local/lib/python3.6/dist-packages/seaborn/distributions.py:306: UserWarning: Dataset has 0 variance; skipping density estimate.\n",
            "  warnings.warn(msg, UserWarning)\n",
            "/usr/local/lib/python3.6/dist-packages/seaborn/distributions.py:2557: FutureWarning: `distplot` is a deprecated function and will be removed in a future version. Please adapt your code to use either `displot` (a figure-level function with similar flexibility) or `kdeplot` (an axes-level function for kernel density plots).\n",
            "  warnings.warn(msg, FutureWarning)\n",
            "/usr/local/lib/python3.6/dist-packages/seaborn/distributions.py:306: UserWarning: Dataset has 0 variance; skipping density estimate.\n",
            "  warnings.warn(msg, UserWarning)\n",
            "/usr/local/lib/python3.6/dist-packages/ipykernel_launcher.py:13: MatplotlibDeprecationWarning: Adding an axes using the same arguments as a previous axes currently reuses the earlier instance.  In a future version, a new instance will always be created and returned.  Meanwhile, this warning can be suppressed, and the future behavior ensured, by passing a unique label to each axes instance.\n",
            "  del sys.path[0]\n"
          ],
          "name": "stderr"
        },
        {
          "output_type": "display_data",
          "data": {
            "image/png": "[encoded data removed]",
            "text/plain": [
              "<Figure size 1080x1080 with 9 Axes>"
            ]
          },
          "metadata": {
            "tags": [],
            "needs_background": "light"
          }
        }
      ]
    },
    {
      "cell_type": "markdown",
      "metadata": {
        "id": "ebI13eMqZLWi"
      },
      "source": [
        "100mg/dL\n",
        "\n",
        "*   Dash line is Diabetics\n",
        "*   Solid line is non-Diabetics\n",
        "\n",
        "\n",
        "150mg/dL\n"
      ]
    },
    {
      "cell_type": "code",
      "metadata": {
        "colab": {
          "base_uri": "https://localhost:8080/"
        },
        "id": "DWBH2f7BjmoV",
        "outputId": "715232e0-dcad-49f2-a343-e313b2d39979"
      },
      "source": [
        "print(df.isnull().any())"
      ],
      "execution_count": null,
      "outputs": [
        {
          "output_type": "stream",
          "text": [
            "Pregnancies                 False\n",
            "Glucose                     False\n",
            "BloodPressure               False\n",
            "SkinThickness               False\n",
            "Insulin                     False\n",
            "BMI                         False\n",
            "DiabetesPedigreeFunction    False\n",
            "Age                         False\n",
            "Outcome                     False\n",
            "dtype: bool\n"
          ],
          "name": "stdout"
        }
      ]
    },
    {
      "cell_type": "code",
      "metadata": {
        "colab": {
          "base_uri": "https://localhost:8080/"
        },
        "id": "efzRaJPkkD6y",
        "outputId": "042b7876-644e-42b8-af56-e7529b048381"
      },
      "source": [
        "print(df.describe())"
      ],
      "execution_count": null,
      "outputs": [
        {
          "output_type": "stream",
          "text": [
            "       Pregnancies     Glucose  ...         Age     Outcome\n",
            "count   768.000000  768.000000  ...  768.000000  768.000000\n",
            "mean      3.845052  120.894531  ...   33.240885    0.348958\n",
            "std       3.369578   31.972618  ...   11.760232    0.476951\n",
            "min       0.000000    0.000000  ...   21.000000    0.000000\n",
            "25%       1.000000   99.000000  ...   24.000000    0.000000\n",
            "50%       3.000000  117.000000  ...   29.000000    0.000000\n",
            "75%       6.000000  140.250000  ...   41.000000    1.000000\n",
            "max      17.000000  199.000000  ...   81.000000    1.000000\n",
            "\n",
            "[8 rows x 9 columns]\n"
          ],
          "name": "stdout"
        }
      ]
    },
    {
      "cell_type": "code",
      "metadata": {
        "colab": {
          "base_uri": "https://localhost:8080/"
        },
        "id": "HeSc1ilNkcLb",
        "outputId": "a3090c12-69df-40ca-efa0-a6085b08b372"
      },
      "source": [
        "print(\"Number of rows with 0 values for each variable\")\n",
        "for col in df.columns:\n",
        "  missing_rows = df.loc[df[col]==0].shape[0]\n",
        "\n",
        "  print(col + \": \"+str(missing_rows))"
      ],
      "execution_count": null,
      "outputs": [
        {
          "output_type": "stream",
          "text": [
            "Number of rows with 0 values for each variable\n",
            "Pregnancies: 111\n",
            "Glucose: 5\n",
            "BloodPressure: 35\n",
            "SkinThickness: 227\n",
            "Insulin: 374\n",
            "BMI: 11\n",
            "DiabetesPedigreeFunction: 0\n",
            "Age: 0\n",
            "Outcome: 500\n"
          ],
          "name": "stdout"
        }
      ]
    },
    {
      "cell_type": "markdown",
      "metadata": {
        "id": "aPPN-Zbtk5dB"
      },
      "source": [
        "There are several techniques to handle these missing values:\n",
        "\n",
        "\n",
        "*   Remove (discard) any rows with missing values\n",
        "*   Replace the missing values with the mean/median/mode of the non-missing values.\n",
        "\n",
        "\n",
        "*   Predict the actual values using a seperate machine learning model\n",
        "\n",
        "\n",
        "\n"
      ]
    },
    {
      "cell_type": "code",
      "metadata": {
        "id": "dYMRDivolcBm"
      },
      "source": [
        "#Replace 0 value with NaN\n",
        "import numpy as np\n",
        "df['Glucose'] = df['Glucose'].replace(0,np.nan)\n",
        "df['BloodPressure'] = df['BloodPressure'].replace(0,np.nan)\n",
        "df['SkinThickness'] = df['SkinThickness'].replace(0,np.nan)\n",
        "df['Insulin'] = df['Insulin'].replace(0,np.nan)\n",
        "\n",
        "df['BMI'] = df['BMI'].replace(0,np.nan)"
      ],
      "execution_count": null,
      "outputs": []
    },
    {
      "cell_type": "code",
      "metadata": {
        "colab": {
          "base_uri": "https://localhost:8080/"
        },
        "id": "WfsT3XUsmLO_",
        "outputId": "f30e78fe-61d0-4c41-c078-97cc3ce3bb69"
      },
      "source": [
        "print(\"Number of rows with 0 values for each variable\")\n",
        "for col in df.columns:\n",
        "  missing_rows = df.loc[df[col]==0].shape[0]\n",
        "\n",
        "  print(col + \": \"+str(missing_rows))"
      ],
      "execution_count": null,
      "outputs": [
        {
          "output_type": "stream",
          "text": [
            "Number of rows with 0 values for each variable\n",
            "Pregnancies: 111\n",
            "Glucose: 0\n",
            "BloodPressure: 0\n",
            "SkinThickness: 0\n",
            "Insulin: 0\n",
            "BMI: 0\n",
            "DiabetesPedigreeFunction: 0\n",
            "Age: 0\n",
            "Outcome: 500\n"
          ],
          "name": "stdout"
        }
      ]
    },
    {
      "cell_type": "code",
      "metadata": {
        "id": "4hqUOB0cmVRl"
      },
      "source": [
        "# Replace Nan values with the mean of the non-missing values by using fillna()"
      ],
      "execution_count": null,
      "outputs": []
    },
    {
      "cell_type": "code",
      "metadata": {
        "id": "MXCmoiAPmfaB"
      },
      "source": [
        "df['Glucose'] = df['Glucose'].fillna(df['Glucose'].mean())\n",
        "df['BloodPressure'] = df['BloodPressure'].fillna(df['BloodPressure'].mean())\n",
        "df['SkinThickness'] = df['SkinThickness'].fillna(df['SkinThickness'].mean())\n",
        "df['Insulin'] = df['Insulin'].fillna(df['Insulin'].mean())\n",
        "\n",
        "df['BMI'] = df['BMI'].fillna(df['BMI'].mean())"
      ],
      "execution_count": null,
      "outputs": []
    },
    {
      "cell_type": "markdown",
      "metadata": {
        "id": "2NT19yawtZWO"
      },
      "source": [
        "The goal of data standardization is to transform the numeric variables so that each variable has zero mean and unit varianace.\n",
        "\n",
        "\n",
        "*   Insulin and DiabetesPedigreeFunction have vastly differennt scales. The maximum value for Insulin is 846 while the maximum value for DiabetesPedigreeFunction is only 2.42\n",
        "\n",
        "\n"
      ]
    },
    {
      "cell_type": "code",
      "metadata": {
        "colab": {
          "base_uri": "https://localhost:8080/"
        },
        "id": "6QKowRlIuMzn",
        "outputId": "9c893138-11f0-4a11-a9d8-2571b56c0d30"
      },
      "source": [
        "from sklearn import preprocessing\n",
        "df_scaled = preprocessing.scale(df)\n",
        "df_scaled = pd.DataFrame(df_scaled,columns=df.columns)\n",
        "df_scaled['Outcome'] = df['Outcome']\n",
        "df = df_scaled\n",
        "print(df.describe().loc[['mean','std','max'],].round(2).abs())"
      ],
      "execution_count": null,
      "outputs": [
        {
          "output_type": "stream",
          "text": [
            "      Pregnancies  Glucose  ...   Age  Outcome\n",
            "mean         0.00     0.00  ...  0.00     0.35\n",
            "std          1.00     1.00  ...  1.00     0.48\n",
            "max          3.91     2.54  ...  4.06     1.00\n",
            "\n",
            "[3 rows x 9 columns]\n"
          ],
          "name": "stdout"
        }
      ]
    },
    {
      "cell_type": "markdown",
      "metadata": {
        "id": "wLH2NygtwCZY"
      },
      "source": [
        "\n",
        "\n",
        "1.   Training set: The neural network will be trained on this subset of the data\n",
        "2.   Validation set: This set of data allows us to perform hyperparameter tuning(That is, tuning the number of hidden layers) using an unbiased source of data\n",
        "1.   Testing set: The final evaluation of the neural network will be based on this subset of the data.\n",
        "The purpose of splitting the data into training, testing and validation sets is to avoid overfitting and to provide an unbiased source of data for evaluating performance\n",
        "\n",
        "*   If we allocate most of our data for training purposes, model performance will increase at the detriment of our ability to avoid overfitting.\n",
        "*   If we allocate most of our data for validation and testing purposes, model performance will decrease as there might be insufficient data for training.\n",
        "\n",
        "There are some steps:\n",
        "\n",
        "*   Original data is 1st spliited into training (80%) and testing (20%)\n",
        "*   Training set is 2nd splitted into training set, validation set and testing set.\n",
        "Splitting data must be done at random\n",
        "*   First, let's seperate the dataset into X(input features) and y(target variable)\n",
        "\n",
        "\n",
        "\n",
        "\n",
        "\n",
        "\n",
        "\n",
        "\n",
        "\n"
      ]
    },
    {
      "cell_type": "code",
      "metadata": {
        "id": "K59EWgy3ySM-"
      },
      "source": [
        "from sklearn.model_selection import train_test_split\n",
        "X = df.loc[:, df.columns != 'Outcome']\n",
        "y = df.loc[:, 'Outcome']\n",
        "# Split the data into training set(80%) and the testing set(20%)\n",
        "X_train, X_test, y_train, y_test = train_test_split(X, y, test_size=0.2)\n",
        "# Make a second split to create the final training set and the validation set\n",
        "X_train, X_val, y_train, y_val = train_test_split(X_train,y_train,test_size = 0.2)"
      ],
      "execution_count": null,
      "outputs": []
    },
    {
      "cell_type": "code",
      "metadata": {
        "id": "G1zF-RsFSlUq"
      },
      "source": [
        "from keras.models import Sequential\n",
        "model = Sequential()"
      ],
      "execution_count": null,
      "outputs": []
    },
    {
      "cell_type": "markdown",
      "metadata": {
        "id": "ASvmxCIPSwex"
      },
      "source": [
        "\n",
        "\n",
        "*   The first hidden layer will have 32 nodes\n",
        "*   The input dimension will be 8 because there 8 columns in X_train\n",
        "\n"
      ]
    },
    {
      "cell_type": "code",
      "metadata": {
        "id": "gZFaSnZDTIzi"
      },
      "source": [
        "from keras.layers import Dense # Add the first Hidden layer\n",
        "model.add(Dense(32, activation='relu', input_dim=8))\n",
        "model.add(Dense(16, activation='relu'))# Add the second hidden layer\n",
        "model.add(Dense(1, activation='sigmoid'))"
      ],
      "execution_count": null,
      "outputs": []
    },
    {
      "cell_type": "markdown",
      "metadata": {
        "id": "Be-hPa1NUr_7"
      },
      "source": [
        "There are three different parameters we need to define for the training process\n",
        "\n",
        "*   Optimizer: Let's use the adam optimizer, whihc is a popular optimizer in Keras. For most datasets, the adam optimizer will work well without much tuning\n",
        "*   Loss function: We will use binary_crossentropy as our loss function since the problem at hand is a binary classification problem.\n",
        "\n",
        "*   Metrics: We will use accuracy (that is the percentage of correctly classified samples) as our evaluation metric.\n",
        "\n",
        "\n",
        "\n",
        "\n"
      ]
    },
    {
      "cell_type": "code",
      "metadata": {
        "id": "-13GS3_dVchc"
      },
      "source": [
        "# compile the model\n",
        "model.compile(optimizer='adam', loss='binary_crossentropy',metrics=['accuracy'])"
      ],
      "execution_count": null,
      "outputs": []
    },
    {
      "cell_type": "code",
      "metadata": {
        "colab": {
          "base_uri": "https://localhost:8080/"
        },
        "id": "Y-aHFbrvXY01",
        "outputId": "afee1911-a1f8-49da-b03b-ead40610e9ee"
      },
      "source": [
        "#Train the model for 200 epochs\n",
        "model.fit(X_train,y_train,epochs=200)"
      ],
      "execution_count": null,
      "outputs": [
        {
          "output_type": "stream",
          "text": [
            "Epoch 1/200\n",
            "16/16 [==============================] - 1s 2ms/step - loss: 0.7306 - accuracy: 0.3835\n",
            "Epoch 2/200\n",
            "16/16 [==============================] - 0s 2ms/step - loss: 0.6739 - accuracy: 0.5719\n",
            "Epoch 3/200\n",
            "16/16 [==============================] - 0s 1ms/step - loss: 0.6305 - accuracy: 0.7176\n",
            "Epoch 4/200\n",
            "16/16 [==============================] - 0s 1ms/step - loss: 0.5750 - accuracy: 0.7600\n",
            "Epoch 5/200\n",
            "16/16 [==============================] - 0s 1ms/step - loss: 0.5458 - accuracy: 0.7566\n",
            "Epoch 6/200\n",
            "16/16 [==============================] - 0s 1ms/step - loss: 0.5063 - accuracy: 0.8122\n",
            "Epoch 7/200\n",
            "16/16 [==============================] - 0s 1ms/step - loss: 0.4966 - accuracy: 0.7729\n",
            "Epoch 8/200\n",
            "16/16 [==============================] - 0s 1ms/step - loss: 0.4682 - accuracy: 0.7849\n",
            "Epoch 9/200\n",
            "16/16 [==============================] - 0s 1ms/step - loss: 0.4563 - accuracy: 0.8135\n",
            "Epoch 10/200\n",
            "16/16 [==============================] - 0s 1ms/step - loss: 0.4500 - accuracy: 0.7890\n",
            "Epoch 11/200\n",
            "16/16 [==============================] - 0s 2ms/step - loss: 0.4251 - accuracy: 0.8140\n",
            "Epoch 12/200\n",
            "16/16 [==============================] - 0s 1ms/step - loss: 0.4155 - accuracy: 0.8167\n",
            "Epoch 13/200\n",
            "16/16 [==============================] - 0s 2ms/step - loss: 0.4222 - accuracy: 0.7946\n",
            "Epoch 14/200\n",
            "16/16 [==============================] - 0s 1ms/step - loss: 0.4650 - accuracy: 0.7709\n",
            "Epoch 15/200\n",
            "16/16 [==============================] - 0s 1ms/step - loss: 0.4555 - accuracy: 0.7740\n",
            "Epoch 16/200\n",
            "16/16 [==============================] - 0s 1ms/step - loss: 0.4720 - accuracy: 0.7781\n",
            "Epoch 17/200\n",
            "16/16 [==============================] - 0s 1ms/step - loss: 0.4134 - accuracy: 0.7961\n",
            "Epoch 18/200\n",
            "16/16 [==============================] - 0s 1ms/step - loss: 0.4294 - accuracy: 0.7875\n",
            "Epoch 19/200\n",
            "16/16 [==============================] - 0s 2ms/step - loss: 0.4277 - accuracy: 0.8162\n",
            "Epoch 20/200\n",
            "16/16 [==============================] - 0s 1ms/step - loss: 0.4148 - accuracy: 0.8052\n",
            "Epoch 21/200\n",
            "16/16 [==============================] - 0s 1ms/step - loss: 0.3953 - accuracy: 0.8289\n",
            "Epoch 22/200\n",
            "16/16 [==============================] - 0s 1ms/step - loss: 0.4259 - accuracy: 0.7859\n",
            "Epoch 23/200\n",
            "16/16 [==============================] - 0s 1ms/step - loss: 0.3998 - accuracy: 0.8050\n",
            "Epoch 24/200\n",
            "16/16 [==============================] - 0s 1ms/step - loss: 0.4064 - accuracy: 0.8025\n",
            "Epoch 25/200\n",
            "16/16 [==============================] - 0s 1ms/step - loss: 0.3819 - accuracy: 0.8158\n",
            "Epoch 26/200\n",
            "16/16 [==============================] - 0s 1ms/step - loss: 0.4161 - accuracy: 0.8058\n",
            "Epoch 27/200\n",
            "16/16 [==============================] - 0s 2ms/step - loss: 0.4081 - accuracy: 0.8128\n",
            "Epoch 28/200\n",
            "16/16 [==============================] - 0s 2ms/step - loss: 0.3737 - accuracy: 0.8329\n",
            "Epoch 29/200\n",
            "16/16 [==============================] - 0s 1ms/step - loss: 0.3966 - accuracy: 0.8128\n",
            "Epoch 30/200\n",
            "16/16 [==============================] - 0s 1ms/step - loss: 0.3853 - accuracy: 0.8147\n",
            "Epoch 31/200\n",
            "16/16 [==============================] - 0s 1ms/step - loss: 0.4027 - accuracy: 0.8273\n",
            "Epoch 32/200\n",
            "16/16 [==============================] - 0s 1ms/step - loss: 0.3954 - accuracy: 0.8127\n",
            "Epoch 33/200\n",
            "16/16 [==============================] - 0s 1ms/step - loss: 0.3949 - accuracy: 0.8106\n",
            "Epoch 34/200\n",
            "16/16 [==============================] - 0s 2ms/step - loss: 0.4091 - accuracy: 0.8010\n",
            "Epoch 35/200\n",
            "16/16 [==============================] - 0s 2ms/step - loss: 0.3894 - accuracy: 0.8312\n",
            "Epoch 36/200\n",
            "16/16 [==============================] - 0s 2ms/step - loss: 0.4135 - accuracy: 0.8046\n",
            "Epoch 37/200\n",
            "16/16 [==============================] - 0s 2ms/step - loss: 0.3827 - accuracy: 0.8131\n",
            "Epoch 38/200\n",
            "16/16 [==============================] - 0s 2ms/step - loss: 0.3629 - accuracy: 0.8411\n",
            "Epoch 39/200\n",
            "16/16 [==============================] - 0s 2ms/step - loss: 0.3923 - accuracy: 0.8088\n",
            "Epoch 40/200\n",
            "16/16 [==============================] - 0s 2ms/step - loss: 0.4040 - accuracy: 0.8186\n",
            "Epoch 41/200\n",
            "16/16 [==============================] - 0s 2ms/step - loss: 0.3949 - accuracy: 0.8168\n",
            "Epoch 42/200\n",
            "16/16 [==============================] - 0s 2ms/step - loss: 0.3876 - accuracy: 0.8105\n",
            "Epoch 43/200\n",
            "16/16 [==============================] - 0s 2ms/step - loss: 0.3686 - accuracy: 0.8352\n",
            "Epoch 44/200\n",
            "16/16 [==============================] - 0s 2ms/step - loss: 0.3863 - accuracy: 0.8124\n",
            "Epoch 45/200\n",
            "16/16 [==============================] - 0s 2ms/step - loss: 0.3923 - accuracy: 0.8208\n",
            "Epoch 46/200\n",
            "16/16 [==============================] - 0s 1ms/step - loss: 0.3711 - accuracy: 0.8467\n",
            "Epoch 47/200\n",
            "16/16 [==============================] - 0s 1ms/step - loss: 0.3787 - accuracy: 0.8398\n",
            "Epoch 48/200\n",
            "16/16 [==============================] - 0s 2ms/step - loss: 0.3991 - accuracy: 0.8142\n",
            "Epoch 49/200\n",
            "16/16 [==============================] - 0s 1ms/step - loss: 0.3663 - accuracy: 0.8344\n",
            "Epoch 50/200\n",
            "16/16 [==============================] - 0s 2ms/step - loss: 0.3867 - accuracy: 0.8161\n",
            "Epoch 51/200\n",
            "16/16 [==============================] - 0s 2ms/step - loss: 0.3940 - accuracy: 0.8096\n",
            "Epoch 52/200\n",
            "16/16 [==============================] - 0s 1ms/step - loss: 0.3905 - accuracy: 0.8113\n",
            "Epoch 53/200\n",
            "16/16 [==============================] - 0s 2ms/step - loss: 0.3743 - accuracy: 0.8246\n",
            "Epoch 54/200\n",
            "16/16 [==============================] - 0s 1ms/step - loss: 0.3874 - accuracy: 0.8115\n",
            "Epoch 55/200\n",
            "16/16 [==============================] - 0s 1ms/step - loss: 0.3795 - accuracy: 0.8137\n",
            "Epoch 56/200\n",
            "16/16 [==============================] - 0s 1ms/step - loss: 0.4049 - accuracy: 0.8043\n",
            "Epoch 57/200\n",
            "16/16 [==============================] - 0s 1ms/step - loss: 0.3606 - accuracy: 0.8347\n",
            "Epoch 58/200\n",
            "16/16 [==============================] - 0s 2ms/step - loss: 0.3714 - accuracy: 0.8248\n",
            "Epoch 59/200\n",
            "16/16 [==============================] - 0s 2ms/step - loss: 0.3650 - accuracy: 0.8451\n",
            "Epoch 60/200\n",
            "16/16 [==============================] - 0s 2ms/step - loss: 0.3550 - accuracy: 0.8347\n",
            "Epoch 61/200\n",
            "16/16 [==============================] - 0s 2ms/step - loss: 0.3610 - accuracy: 0.8341\n",
            "Epoch 62/200\n",
            "16/16 [==============================] - 0s 2ms/step - loss: 0.3643 - accuracy: 0.8395\n",
            "Epoch 63/200\n",
            "16/16 [==============================] - 0s 1ms/step - loss: 0.3802 - accuracy: 0.8268\n",
            "Epoch 64/200\n",
            "16/16 [==============================] - 0s 2ms/step - loss: 0.3634 - accuracy: 0.8477\n",
            "Epoch 65/200\n",
            "16/16 [==============================] - 0s 1ms/step - loss: 0.3816 - accuracy: 0.8109\n",
            "Epoch 66/200\n",
            "16/16 [==============================] - 0s 2ms/step - loss: 0.3592 - accuracy: 0.8460\n",
            "Epoch 67/200\n",
            "16/16 [==============================] - 0s 1ms/step - loss: 0.3521 - accuracy: 0.8325\n",
            "Epoch 68/200\n",
            "16/16 [==============================] - 0s 2ms/step - loss: 0.3465 - accuracy: 0.8394\n",
            "Epoch 69/200\n",
            "16/16 [==============================] - 0s 1ms/step - loss: 0.3369 - accuracy: 0.8442\n",
            "Epoch 70/200\n",
            "16/16 [==============================] - 0s 1ms/step - loss: 0.3712 - accuracy: 0.8423\n",
            "Epoch 71/200\n",
            "16/16 [==============================] - 0s 2ms/step - loss: 0.3683 - accuracy: 0.8399\n",
            "Epoch 72/200\n",
            "16/16 [==============================] - 0s 2ms/step - loss: 0.3551 - accuracy: 0.8433\n",
            "Epoch 73/200\n",
            "16/16 [==============================] - 0s 2ms/step - loss: 0.3735 - accuracy: 0.8260\n",
            "Epoch 74/200\n",
            "16/16 [==============================] - 0s 2ms/step - loss: 0.3348 - accuracy: 0.8467\n",
            "Epoch 75/200\n",
            "16/16 [==============================] - 0s 2ms/step - loss: 0.3647 - accuracy: 0.8348\n",
            "Epoch 76/200\n",
            "16/16 [==============================] - 0s 2ms/step - loss: 0.3335 - accuracy: 0.8432\n",
            "Epoch 77/200\n",
            "16/16 [==============================] - 0s 2ms/step - loss: 0.3382 - accuracy: 0.8522\n",
            "Epoch 78/200\n",
            "16/16 [==============================] - 0s 1ms/step - loss: 0.3529 - accuracy: 0.8536\n",
            "Epoch 79/200\n",
            "16/16 [==============================] - 0s 2ms/step - loss: 0.3285 - accuracy: 0.8596\n",
            "Epoch 80/200\n",
            "16/16 [==============================] - 0s 1ms/step - loss: 0.3007 - accuracy: 0.8795\n",
            "Epoch 81/200\n",
            "16/16 [==============================] - 0s 2ms/step - loss: 0.3116 - accuracy: 0.8752\n",
            "Epoch 82/200\n",
            "16/16 [==============================] - 0s 1ms/step - loss: 0.3464 - accuracy: 0.8566\n",
            "Epoch 83/200\n",
            "16/16 [==============================] - 0s 1ms/step - loss: 0.3354 - accuracy: 0.8416\n",
            "Epoch 84/200\n",
            "16/16 [==============================] - 0s 1ms/step - loss: 0.3281 - accuracy: 0.8608\n",
            "Epoch 85/200\n",
            "16/16 [==============================] - 0s 1ms/step - loss: 0.3157 - accuracy: 0.8786\n",
            "Epoch 86/200\n",
            "16/16 [==============================] - 0s 2ms/step - loss: 0.3364 - accuracy: 0.8511\n",
            "Epoch 87/200\n",
            "16/16 [==============================] - 0s 1ms/step - loss: 0.3024 - accuracy: 0.8695\n",
            "Epoch 88/200\n",
            "16/16 [==============================] - 0s 1ms/step - loss: 0.3093 - accuracy: 0.8582\n",
            "Epoch 89/200\n",
            "16/16 [==============================] - 0s 1ms/step - loss: 0.3201 - accuracy: 0.8713\n",
            "Epoch 90/200\n",
            "16/16 [==============================] - 0s 1ms/step - loss: 0.3392 - accuracy: 0.8457\n",
            "Epoch 91/200\n",
            "16/16 [==============================] - 0s 1ms/step - loss: 0.3592 - accuracy: 0.8251\n",
            "Epoch 92/200\n",
            "16/16 [==============================] - 0s 1ms/step - loss: 0.3397 - accuracy: 0.8394\n",
            "Epoch 93/200\n",
            "16/16 [==============================] - 0s 2ms/step - loss: 0.3348 - accuracy: 0.8614\n",
            "Epoch 94/200\n",
            "16/16 [==============================] - 0s 2ms/step - loss: 0.3008 - accuracy: 0.8809\n",
            "Epoch 95/200\n",
            "16/16 [==============================] - 0s 2ms/step - loss: 0.3239 - accuracy: 0.8541\n",
            "Epoch 96/200\n",
            "16/16 [==============================] - 0s 2ms/step - loss: 0.3219 - accuracy: 0.8633\n",
            "Epoch 97/200\n",
            "16/16 [==============================] - 0s 1ms/step - loss: 0.3121 - accuracy: 0.8592\n",
            "Epoch 98/200\n",
            "16/16 [==============================] - 0s 1ms/step - loss: 0.3247 - accuracy: 0.8767\n",
            "Epoch 99/200\n",
            "16/16 [==============================] - 0s 1ms/step - loss: 0.2966 - accuracy: 0.8727\n",
            "Epoch 100/200\n",
            "16/16 [==============================] - 0s 1ms/step - loss: 0.3712 - accuracy: 0.8350\n",
            "Epoch 101/200\n",
            "16/16 [==============================] - 0s 2ms/step - loss: 0.3400 - accuracy: 0.8555\n",
            "Epoch 102/200\n",
            "16/16 [==============================] - 0s 1ms/step - loss: 0.3249 - accuracy: 0.8661\n",
            "Epoch 103/200\n",
            "16/16 [==============================] - 0s 2ms/step - loss: 0.3289 - accuracy: 0.8632\n",
            "Epoch 104/200\n",
            "16/16 [==============================] - 0s 1ms/step - loss: 0.3291 - accuracy: 0.8732\n",
            "Epoch 105/200\n",
            "16/16 [==============================] - 0s 2ms/step - loss: 0.3242 - accuracy: 0.8629\n",
            "Epoch 106/200\n",
            "16/16 [==============================] - 0s 2ms/step - loss: 0.2973 - accuracy: 0.8859\n",
            "Epoch 107/200\n",
            "16/16 [==============================] - 0s 2ms/step - loss: 0.2831 - accuracy: 0.8902\n",
            "Epoch 108/200\n",
            "16/16 [==============================] - 0s 2ms/step - loss: 0.2983 - accuracy: 0.8819\n",
            "Epoch 109/200\n",
            "16/16 [==============================] - 0s 2ms/step - loss: 0.3260 - accuracy: 0.8558\n",
            "Epoch 110/200\n",
            "16/16 [==============================] - 0s 2ms/step - loss: 0.2997 - accuracy: 0.8752\n",
            "Epoch 111/200\n",
            "16/16 [==============================] - 0s 2ms/step - loss: 0.3056 - accuracy: 0.8750\n",
            "Epoch 112/200\n",
            "16/16 [==============================] - 0s 1ms/step - loss: 0.3057 - accuracy: 0.8732\n",
            "Epoch 113/200\n",
            "16/16 [==============================] - 0s 1ms/step - loss: 0.3143 - accuracy: 0.8532\n",
            "Epoch 114/200\n",
            "16/16 [==============================] - 0s 2ms/step - loss: 0.3077 - accuracy: 0.8750\n",
            "Epoch 115/200\n",
            "16/16 [==============================] - 0s 2ms/step - loss: 0.2868 - accuracy: 0.8911\n",
            "Epoch 116/200\n",
            "16/16 [==============================] - 0s 2ms/step - loss: 0.2858 - accuracy: 0.8942\n",
            "Epoch 117/200\n",
            "16/16 [==============================] - 0s 1ms/step - loss: 0.2877 - accuracy: 0.8812\n",
            "Epoch 118/200\n",
            "16/16 [==============================] - 0s 2ms/step - loss: 0.2951 - accuracy: 0.8880\n",
            "Epoch 119/200\n",
            "16/16 [==============================] - 0s 1ms/step - loss: 0.2599 - accuracy: 0.9138\n",
            "Epoch 120/200\n",
            "16/16 [==============================] - 0s 1ms/step - loss: 0.3060 - accuracy: 0.8774\n",
            "Epoch 121/200\n",
            "16/16 [==============================] - 0s 1ms/step - loss: 0.3085 - accuracy: 0.8931\n",
            "Epoch 122/200\n",
            "16/16 [==============================] - 0s 2ms/step - loss: 0.2892 - accuracy: 0.8817\n",
            "Epoch 123/200\n",
            "16/16 [==============================] - 0s 2ms/step - loss: 0.2952 - accuracy: 0.8834\n",
            "Epoch 124/200\n",
            "16/16 [==============================] - 0s 2ms/step - loss: 0.2719 - accuracy: 0.9017\n",
            "Epoch 125/200\n",
            "16/16 [==============================] - 0s 2ms/step - loss: 0.2779 - accuracy: 0.8937\n",
            "Epoch 126/200\n",
            "16/16 [==============================] - 0s 2ms/step - loss: 0.2563 - accuracy: 0.8966\n",
            "Epoch 127/200\n",
            "16/16 [==============================] - 0s 2ms/step - loss: 0.2443 - accuracy: 0.9174\n",
            "Epoch 128/200\n",
            "16/16 [==============================] - 0s 2ms/step - loss: 0.2913 - accuracy: 0.8810\n",
            "Epoch 129/200\n",
            "16/16 [==============================] - 0s 1ms/step - loss: 0.2803 - accuracy: 0.8837\n",
            "Epoch 130/200\n",
            "16/16 [==============================] - 0s 1ms/step - loss: 0.2796 - accuracy: 0.8935\n",
            "Epoch 131/200\n",
            "16/16 [==============================] - 0s 2ms/step - loss: 0.2580 - accuracy: 0.8994\n",
            "Epoch 132/200\n",
            "16/16 [==============================] - 0s 2ms/step - loss: 0.2882 - accuracy: 0.8990\n",
            "Epoch 133/200\n",
            "16/16 [==============================] - 0s 2ms/step - loss: 0.2555 - accuracy: 0.9022\n",
            "Epoch 134/200\n",
            "16/16 [==============================] - 0s 2ms/step - loss: 0.2781 - accuracy: 0.8893\n",
            "Epoch 135/200\n",
            "16/16 [==============================] - 0s 2ms/step - loss: 0.2728 - accuracy: 0.9106\n",
            "Epoch 136/200\n",
            "16/16 [==============================] - 0s 2ms/step - loss: 0.2489 - accuracy: 0.9156\n",
            "Epoch 137/200\n",
            "16/16 [==============================] - 0s 2ms/step - loss: 0.2783 - accuracy: 0.8941\n",
            "Epoch 138/200\n",
            "16/16 [==============================] - 0s 2ms/step - loss: 0.2725 - accuracy: 0.8951\n",
            "Epoch 139/200\n",
            "16/16 [==============================] - 0s 2ms/step - loss: 0.2428 - accuracy: 0.9208\n",
            "Epoch 140/200\n",
            "16/16 [==============================] - 0s 2ms/step - loss: 0.2683 - accuracy: 0.9064\n",
            "Epoch 141/200\n",
            "16/16 [==============================] - 0s 2ms/step - loss: 0.2818 - accuracy: 0.9050\n",
            "Epoch 142/200\n",
            "16/16 [==============================] - 0s 2ms/step - loss: 0.2698 - accuracy: 0.9155\n",
            "Epoch 143/200\n",
            "16/16 [==============================] - 0s 2ms/step - loss: 0.2558 - accuracy: 0.9050\n",
            "Epoch 144/200\n",
            "16/16 [==============================] - 0s 1ms/step - loss: 0.2507 - accuracy: 0.9185\n",
            "Epoch 145/200\n",
            "16/16 [==============================] - 0s 2ms/step - loss: 0.2525 - accuracy: 0.9148\n",
            "Epoch 146/200\n",
            "16/16 [==============================] - 0s 2ms/step - loss: 0.2359 - accuracy: 0.9154\n",
            "Epoch 147/200\n",
            "16/16 [==============================] - 0s 2ms/step - loss: 0.2651 - accuracy: 0.9084\n",
            "Epoch 148/200\n",
            "16/16 [==============================] - 0s 2ms/step - loss: 0.2609 - accuracy: 0.9172\n",
            "Epoch 149/200\n",
            "16/16 [==============================] - 0s 2ms/step - loss: 0.2693 - accuracy: 0.9048\n",
            "Epoch 150/200\n",
            "16/16 [==============================] - 0s 1ms/step - loss: 0.2471 - accuracy: 0.9181\n",
            "Epoch 151/200\n",
            "16/16 [==============================] - 0s 2ms/step - loss: 0.2512 - accuracy: 0.9008\n",
            "Epoch 152/200\n",
            "16/16 [==============================] - 0s 2ms/step - loss: 0.2589 - accuracy: 0.8960\n",
            "Epoch 153/200\n",
            "16/16 [==============================] - 0s 1ms/step - loss: 0.2468 - accuracy: 0.9216\n",
            "Epoch 154/200\n",
            "16/16 [==============================] - 0s 2ms/step - loss: 0.2478 - accuracy: 0.9097\n",
            "Epoch 155/200\n",
            "16/16 [==============================] - 0s 2ms/step - loss: 0.2546 - accuracy: 0.9079\n",
            "Epoch 156/200\n",
            "16/16 [==============================] - 0s 2ms/step - loss: 0.2321 - accuracy: 0.9250\n",
            "Epoch 157/200\n",
            "16/16 [==============================] - 0s 2ms/step - loss: 0.2632 - accuracy: 0.8959\n",
            "Epoch 158/200\n",
            "16/16 [==============================] - 0s 2ms/step - loss: 0.2339 - accuracy: 0.9141\n",
            "Epoch 159/200\n",
            "16/16 [==============================] - 0s 1ms/step - loss: 0.2625 - accuracy: 0.9043\n",
            "Epoch 160/200\n",
            "16/16 [==============================] - 0s 2ms/step - loss: 0.2764 - accuracy: 0.9023\n",
            "Epoch 161/200\n",
            "16/16 [==============================] - 0s 2ms/step - loss: 0.2445 - accuracy: 0.9126\n",
            "Epoch 162/200\n",
            "16/16 [==============================] - 0s 2ms/step - loss: 0.2513 - accuracy: 0.9110\n",
            "Epoch 163/200\n",
            "16/16 [==============================] - 0s 2ms/step - loss: 0.2336 - accuracy: 0.9280\n",
            "Epoch 164/200\n",
            "16/16 [==============================] - 0s 2ms/step - loss: 0.2466 - accuracy: 0.9079\n",
            "Epoch 165/200\n",
            "16/16 [==============================] - 0s 2ms/step - loss: 0.2539 - accuracy: 0.9134\n",
            "Epoch 166/200\n",
            "16/16 [==============================] - 0s 2ms/step - loss: 0.2432 - accuracy: 0.9147\n",
            "Epoch 167/200\n",
            "16/16 [==============================] - 0s 2ms/step - loss: 0.2414 - accuracy: 0.9148\n",
            "Epoch 168/200\n",
            "16/16 [==============================] - 0s 2ms/step - loss: 0.2322 - accuracy: 0.9297\n",
            "Epoch 169/200\n",
            "16/16 [==============================] - 0s 2ms/step - loss: 0.2419 - accuracy: 0.9094\n",
            "Epoch 170/200\n",
            "16/16 [==============================] - 0s 1ms/step - loss: 0.2337 - accuracy: 0.9264\n",
            "Epoch 171/200\n",
            "16/16 [==============================] - 0s 2ms/step - loss: 0.2399 - accuracy: 0.9129\n",
            "Epoch 172/200\n",
            "16/16 [==============================] - 0s 2ms/step - loss: 0.2321 - accuracy: 0.9174\n",
            "Epoch 173/200\n",
            "16/16 [==============================] - 0s 2ms/step - loss: 0.2152 - accuracy: 0.9421\n",
            "Epoch 174/200\n",
            "16/16 [==============================] - 0s 2ms/step - loss: 0.2280 - accuracy: 0.9258\n",
            "Epoch 175/200\n",
            "16/16 [==============================] - 0s 2ms/step - loss: 0.2168 - accuracy: 0.9269\n",
            "Epoch 176/200\n",
            "16/16 [==============================] - 0s 2ms/step - loss: 0.2198 - accuracy: 0.9220\n",
            "Epoch 177/200\n",
            "16/16 [==============================] - 0s 2ms/step - loss: 0.2177 - accuracy: 0.9410\n",
            "Epoch 178/200\n",
            "16/16 [==============================] - 0s 1ms/step - loss: 0.2412 - accuracy: 0.9108\n",
            "Epoch 179/200\n",
            "16/16 [==============================] - 0s 2ms/step - loss: 0.2339 - accuracy: 0.9249\n",
            "Epoch 180/200\n",
            "16/16 [==============================] - 0s 2ms/step - loss: 0.2192 - accuracy: 0.9298\n",
            "Epoch 181/200\n",
            "16/16 [==============================] - 0s 2ms/step - loss: 0.2290 - accuracy: 0.9177\n",
            "Epoch 182/200\n",
            "16/16 [==============================] - 0s 2ms/step - loss: 0.2022 - accuracy: 0.9446\n",
            "Epoch 183/200\n",
            "16/16 [==============================] - 0s 2ms/step - loss: 0.2295 - accuracy: 0.9207\n",
            "Epoch 184/200\n",
            "16/16 [==============================] - 0s 2ms/step - loss: 0.2046 - accuracy: 0.9375\n",
            "Epoch 185/200\n",
            "16/16 [==============================] - 0s 2ms/step - loss: 0.2295 - accuracy: 0.9313\n",
            "Epoch 186/200\n",
            "16/16 [==============================] - 0s 2ms/step - loss: 0.2189 - accuracy: 0.9385\n",
            "Epoch 187/200\n",
            "16/16 [==============================] - 0s 2ms/step - loss: 0.2096 - accuracy: 0.9400\n",
            "Epoch 188/200\n",
            "16/16 [==============================] - 0s 2ms/step - loss: 0.2150 - accuracy: 0.9204\n",
            "Epoch 189/200\n",
            "16/16 [==============================] - 0s 2ms/step - loss: 0.2210 - accuracy: 0.9409\n",
            "Epoch 190/200\n",
            "16/16 [==============================] - 0s 2ms/step - loss: 0.1955 - accuracy: 0.9360\n",
            "Epoch 191/200\n",
            "16/16 [==============================] - 0s 2ms/step - loss: 0.2140 - accuracy: 0.9274\n",
            "Epoch 192/200\n",
            "16/16 [==============================] - 0s 2ms/step - loss: 0.2061 - accuracy: 0.9334\n",
            "Epoch 193/200\n",
            "16/16 [==============================] - 0s 2ms/step - loss: 0.2314 - accuracy: 0.9141\n",
            "Epoch 194/200\n",
            "16/16 [==============================] - 0s 2ms/step - loss: 0.1871 - accuracy: 0.9453\n",
            "Epoch 195/200\n",
            "16/16 [==============================] - 0s 2ms/step - loss: 0.1790 - accuracy: 0.9428\n",
            "Epoch 196/200\n",
            "16/16 [==============================] - 0s 2ms/step - loss: 0.2205 - accuracy: 0.9318\n",
            "Epoch 197/200\n",
            "16/16 [==============================] - 0s 2ms/step - loss: 0.2227 - accuracy: 0.9313\n",
            "Epoch 198/200\n",
            "16/16 [==============================] - 0s 2ms/step - loss: 0.2069 - accuracy: 0.9337\n",
            "Epoch 199/200\n",
            "16/16 [==============================] - 0s 2ms/step - loss: 0.2267 - accuracy: 0.9208\n",
            "Epoch 200/200\n",
            "16/16 [==============================] - 0s 2ms/step - loss: 0.1946 - accuracy: 0.9405\n"
          ],
          "name": "stdout"
        },
        {
          "output_type": "execute_result",
          "data": {
            "text/plain": [
              "<tensorflow.python.keras.callbacks.History at 0x7f7cd0ef6c88>"
            ]
          },
          "metadata": {
            "tags": []
          },
          "execution_count": 20
        }
      ]
    },
    {
      "cell_type": "code",
      "metadata": {
        "colab": {
          "base_uri": "https://localhost:8080/"
        },
        "id": "VzkCaBxBalI0",
        "outputId": "c0ed54a2-c44e-48c2-9491-ae46237bcb46"
      },
      "source": [
        "scores = model.evaluate(X_train,y_train)\n",
        "print(\"Training Accuracy: %.2f%%\\n\" % (scores[1]*100))\n",
        "scores = model.evaluate(X_test,y_test)\n",
        "print(\"Testing Accuracy: %.2f%%\\n\" % (scores[1]*100))"
      ],
      "execution_count": null,
      "outputs": [
        {
          "output_type": "stream",
          "text": [
            "16/16 [==============================] - 0s 1ms/step - loss: 0.1955 - accuracy: 0.9389\n",
            "Training Accuracy: 93.89%\n",
            "\n",
            "5/5 [==============================] - 0s 2ms/step - loss: 0.6950 - accuracy: 0.7662\n",
            "Testing Accuracy: 76.62%\n",
            "\n"
          ],
          "name": "stdout"
        }
      ]
    },
    {
      "cell_type": "markdown",
      "metadata": {
        "id": "Q_fDEFRfEJe_"
      },
      "source": [
        "\n",
        "\n",
        "*   True negative: Actual class is negative (no diabetes), and the model predicted negative (no diabetes)\n",
        "*   False positive : Actual class is negative (no diabetes), but the model predicted positive (diabetes)\n",
        "\n",
        "\n",
        "*   False negative: Actial class is positive (diabetes) but the model predicted negative (no diabetes)\n",
        "*   True positive: Actual class is positve (diabetes), and the model predicted positive (diabetes)\n",
        "\n",
        "\n",
        "\n"
      ]
    },
    {
      "cell_type": "code",
      "metadata": {
        "colab": {
          "base_uri": "https://localhost:8080/",
          "height": 350
        },
        "id": "dFdv2NsvE2dq",
        "outputId": "cc4d8fb4-a7b2-4c2b-cebc-1492dbbf400f"
      },
      "source": [
        "from sklearn.metrics import confusion_matrix\n",
        "import seaborn as sns\n",
        "y_test_pred = model.predict_classes(X_test)\n",
        "c_matrix = confusion_matrix(y_test,y_test_pred)\n",
        "ax = sns.heatmap(c_matrix, annot=True, xticklabels=['No Diabetes','Diabetes'], yticklabels=['No Diabetes','Diabetes'], cbar= False, cmap='Blues')\n",
        "ax.set_xlabel(\"Prediction\")\n",
        "ax.set_ylabel(\"Actual\")"
      ],
      "execution_count": null,
      "outputs": [
        {
          "output_type": "stream",
          "text": [
            "/usr/local/lib/python3.6/dist-packages/tensorflow/python/keras/engine/sequential.py:450: UserWarning: `model.predict_classes()` is deprecated and will be removed after 2021-01-01. Please use instead:* `np.argmax(model.predict(x), axis=-1)`,   if your model does multi-class classification   (e.g. if it uses a `softmax` last-layer activation).* `(model.predict(x) > 0.5).astype(\"int32\")`,   if your model does binary classification   (e.g. if it uses a `sigmoid` last-layer activation).\n",
            "  warnings.warn('`model.predict_classes()` is deprecated and '\n"
          ],
          "name": "stderr"
        },
        {
          "output_type": "execute_result",
          "data": {
            "text/plain": [
              "Text(33.0, 0.5, 'Actual')"
            ]
          },
          "metadata": {
            "tags": []
          },
          "execution_count": 23
        },
        {
          "output_type": "display_data",
          "data": {
            "image/png": "[encoded data removed]",
            "text/plain": [
              "<Figure size 432x288 with 1 Axes>"
            ]
          },
          "metadata": {
            "tags": [],
            "needs_background": "light"
          }
        }
      ]
    },
    {
      "cell_type": "markdown",
      "metadata": {
        "id": "v5Qy9FTaHVOj"
      },
      "source": [
        "\n",
        "\n",
        "*   True positive rate (TPR) = True positive / (True positive + false negative)\n",
        "*   False positive Rate (FPR) = False positive /(true Negative + False Positive)\n",
        "\n"
      ]
    },
    {
      "cell_type": "code",
      "metadata": {
        "id": "kkL30TEUH4Wu"
      },
      "source": [
        "from sklearn.metrics import roc_curve\n",
        "import matplotlib.pyplot as plt\n",
        "\n",
        "y_test_pred_probs = model.predict(X_test)\n",
        "FPR,TPR, _= roc_curve(y_test,y_test_pred_probs)"
      ],
      "execution_count": null,
      "outputs": []
    },
    {
      "cell_type": "code",
      "metadata": {
        "colab": {
          "base_uri": "https://localhost:8080/",
          "height": 296
        },
        "id": "-QqqKKyOIbPa",
        "outputId": "5bb47761-db8a-44c0-b3dd-e06fa75ab47d"
      },
      "source": [
        "plt.plot(FPR,TPR)\n",
        "plt.plot([0,1],[0,1],'--',color='black')#diagonal line\n",
        "\n",
        "plt.xlabel('False Positive Rate')\n",
        "\n",
        "plt.ylabel('True Positive Rate')"
      ],
      "execution_count": null,
      "outputs": [
        {
          "output_type": "execute_result",
          "data": {
            "text/plain": [
              "Text(0, 0.5, 'True Positive Rate')"
            ]
          },
          "metadata": {
            "tags": []
          },
          "execution_count": 26
        },
        {
          "output_type": "display_data",
          "data": {
            "image/png": "[encoded data removed]",
            "text/plain": [
              "<Figure size 432x288 with 1 Axes>"
            ]
          },
          "metadata": {
            "tags": [],
            "needs_background": "light"
          }
        }
      ]
    }
  ]
}